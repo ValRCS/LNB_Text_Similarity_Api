{
 "cells": [
  {
   "cell_type": "code",
   "execution_count": 1,
   "metadata": {},
   "outputs": [],
   "source": [
    "# For testing search results \n"
   ]
  },
  {
   "cell_type": "code",
   "execution_count": 2,
   "metadata": {},
   "outputs": [],
   "source": [
    "from pathlib import Path\n",
    "import pandas as pd"
   ]
  },
  {
   "cell_type": "code",
   "execution_count": 5,
   "metadata": {},
   "outputs": [],
   "source": [
    "def load_all_chunks_as_df(pattern='../data/lima_20221101_*.parquet'):\n",
    "    df = pd.concat([pd.read_parquet(f) for f in Path().glob(pattern)])\n",
    "    return df\n"
   ]
  },
  {
   "cell_type": "code",
   "execution_count": 6,
   "metadata": {},
   "outputs": [
    {
     "data": {
      "text/html": [
       "<div>\n",
       "<style scoped>\n",
       "    .dataframe tbody tr th:only-of-type {\n",
       "        vertical-align: middle;\n",
       "    }\n",
       "\n",
       "    .dataframe tbody tr th {\n",
       "        vertical-align: top;\n",
       "    }\n",
       "\n",
       "    .dataframe thead th {\n",
       "        text-align: right;\n",
       "    }\n",
       "</style>\n",
       "<table border=\"1\" class=\"dataframe\">\n",
       "  <thead>\n",
       "    <tr style=\"text-align: right;\">\n",
       "      <th></th>\n",
       "      <th>text</th>\n",
       "      <th>year</th>\n",
       "      <th>issue</th>\n",
       "      <th>page</th>\n",
       "      <th>segment</th>\n",
       "    </tr>\n",
       "    <tr>\n",
       "      <th>filename</th>\n",
       "      <th></th>\n",
       "      <th></th>\n",
       "      <th></th>\n",
       "      <th></th>\n",
       "      <th></th>\n",
       "    </tr>\n",
       "  </thead>\n",
       "  <tbody>\n",
       "    <tr>\n",
       "      <th>lima1945n001_01_plaintext_s1</th>\n",
       "      <td>Esiet kā Ļeņins\\r\\n\\r\\n\\r\\n22. janvārī visas P...</td>\n",
       "      <td>1945</td>\n",
       "      <td>1</td>\n",
       "      <td>1</td>\n",
       "      <td>1</td>\n",
       "    </tr>\n",
       "    <tr>\n",
       "      <th>lima1945n001_01_plaintext_s2</th>\n",
       "      <td>Viņš redzēja Ļeņinu\\r\\n\\r\\n\\r\\n«Pret paniem!» ...</td>\n",
       "      <td>1945</td>\n",
       "      <td>1</td>\n",
       "      <td>1</td>\n",
       "      <td>2</td>\n",
       "    </tr>\n",
       "    <tr>\n",
       "      <th>lima1945n001_02_plaintext_s3</th>\n",
       "      <td>CEĻU SĀKOT\\r\\n\\r\\n\\r\\nLaikraksts ar nosaukumu\\...</td>\n",
       "      <td>1945</td>\n",
       "      <td>1</td>\n",
       "      <td>2</td>\n",
       "      <td>3</td>\n",
       "    </tr>\n",
       "    <tr>\n",
       "      <th>lima1945n001_02_plaintext_s4</th>\n",
       "      <td>Latviešu padomju mākslinieki Lielajā Tēvijas k...</td>\n",
       "      <td>1945</td>\n",
       "      <td>1</td>\n",
       "      <td>2</td>\n",
       "      <td>4</td>\n",
       "    </tr>\n",
       "    <tr>\n",
       "      <th>lima1945n001_02_plaintext_s5</th>\n",
       "      <td>Karikatūra\\r\\n</td>\n",
       "      <td>1945</td>\n",
       "      <td>1</td>\n",
       "      <td>2</td>\n",
       "      <td>5</td>\n",
       "    </tr>\n",
       "  </tbody>\n",
       "</table>\n",
       "</div>"
      ],
      "text/plain": [
       "                                                                           text  \\\n",
       "filename                                                                          \n",
       "lima1945n001_01_plaintext_s1  Esiet kā Ļeņins\\r\\n\\r\\n\\r\\n22. janvārī visas P...   \n",
       "lima1945n001_01_plaintext_s2  Viņš redzēja Ļeņinu\\r\\n\\r\\n\\r\\n«Pret paniem!» ...   \n",
       "lima1945n001_02_plaintext_s3  CEĻU SĀKOT\\r\\n\\r\\n\\r\\nLaikraksts ar nosaukumu\\...   \n",
       "lima1945n001_02_plaintext_s4  Latviešu padomju mākslinieki Lielajā Tēvijas k...   \n",
       "lima1945n001_02_plaintext_s5                                     Karikatūra\\r\\n   \n",
       "\n",
       "                              year  issue  page  segment  \n",
       "filename                                                  \n",
       "lima1945n001_01_plaintext_s1  1945      1     1        1  \n",
       "lima1945n001_01_plaintext_s2  1945      1     1        2  \n",
       "lima1945n001_02_plaintext_s3  1945      1     2        3  \n",
       "lima1945n001_02_plaintext_s4  1945      1     2        4  \n",
       "lima1945n001_02_plaintext_s5  1945      1     2        5  "
      ]
     },
     "execution_count": 6,
     "metadata": {},
     "output_type": "execute_result"
    }
   ],
   "source": [
    "df = load_all_chunks_as_df()\n",
    "df.head()"
   ]
  },
  {
   "cell_type": "code",
   "execution_count": 8,
   "metadata": {},
   "outputs": [
    {
     "data": {
      "text/plain": [
       "(1945, 1994)"
      ]
     },
     "execution_count": 8,
     "metadata": {},
     "output_type": "execute_result"
    }
   ],
   "source": [
    "df.year.min(), df.year.max()"
   ]
  }
 ],
 "metadata": {
  "kernelspec": {
   "display_name": "Python 3.10.6 ('venv': venv)",
   "language": "python",
   "name": "python3"
  },
  "language_info": {
   "codemirror_mode": {
    "name": "ipython",
    "version": 3
   },
   "file_extension": ".py",
   "mimetype": "text/x-python",
   "name": "python",
   "nbconvert_exporter": "python",
   "pygments_lexer": "ipython3",
   "version": "3.10.6"
  },
  "orig_nbformat": 4,
  "vscode": {
   "interpreter": {
    "hash": "5e9b7fe62fb6f5bec0f0b47197b24ef54ddfbacc3e942420795d19a98ee7e078"
   }
  }
 },
 "nbformat": 4,
 "nbformat_minor": 2
}
