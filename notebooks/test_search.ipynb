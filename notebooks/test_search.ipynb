{
 "cells": [
  {
   "cell_type": "code",
   "execution_count": 1,
   "metadata": {},
   "outputs": [],
   "source": [
    "# For testing search results \n"
   ]
  },
  {
   "cell_type": "code",
   "execution_count": 1,
   "metadata": {},
   "outputs": [],
   "source": [
    "from pathlib import Path\n",
    "import pandas as pd"
   ]
  },
  {
   "cell_type": "code",
   "execution_count": 2,
   "metadata": {},
   "outputs": [],
   "source": [
    "def load_all_chunks_as_df(pattern='../data/tuve*.parquet'):\n",
    "    df = pd.concat([pd.read_parquet(f) for f in Path().glob(pattern)])\n",
    "    return df\n"
   ]
  },
  {
   "cell_type": "code",
   "execution_count": 4,
   "metadata": {},
   "outputs": [
    {
     "data": {
      "text/html": [
       "<div>\n",
       "<style scoped>\n",
       "    .dataframe tbody tr th:only-of-type {\n",
       "        vertical-align: middle;\n",
       "    }\n",
       "\n",
       "    .dataframe tbody tr th {\n",
       "        vertical-align: top;\n",
       "    }\n",
       "\n",
       "    .dataframe thead th {\n",
       "        text-align: right;\n",
       "    }\n",
       "</style>\n",
       "<table border=\"1\" class=\"dataframe\">\n",
       "  <thead>\n",
       "    <tr style=\"text-align: right;\">\n",
       "      <th></th>\n",
       "      <th>text</th>\n",
       "      <th>year</th>\n",
       "      <th>issue</th>\n",
       "      <th>page</th>\n",
       "      <th>segment</th>\n",
       "    </tr>\n",
       "    <tr>\n",
       "      <th>filename</th>\n",
       "      <th></th>\n",
       "      <th></th>\n",
       "      <th></th>\n",
       "      <th></th>\n",
       "      <th></th>\n",
       "    </tr>\n",
       "  </thead>\n",
       "  <tbody>\n",
       "    <tr>\n",
       "      <th>karo1940n01_005_plaintext_s01</th>\n",
       "      <td>title : DARBU SĀKOT subheadline : author : Ž. ...</td>\n",
       "      <td>1940</td>\n",
       "      <td>1</td>\n",
       "      <td>5</td>\n",
       "      <td>1</td>\n",
       "    </tr>\n",
       "    <tr>\n",
       "      <th>karo1940n01_007_plaintext_s02</th>\n",
       "      <td>title : JAUNA DZIESMA subheadline : author : V...</td>\n",
       "      <td>1940</td>\n",
       "      <td>1</td>\n",
       "      <td>7</td>\n",
       "      <td>2</td>\n",
       "    </tr>\n",
       "    <tr>\n",
       "      <th>karo1940n01_008_plaintext_s03</th>\n",
       "      <td>title : PADOMJU ZEME subheadline : author : JĀ...</td>\n",
       "      <td>1940</td>\n",
       "      <td>1</td>\n",
       "      <td>8</td>\n",
       "      <td>3</td>\n",
       "    </tr>\n",
       "    <tr>\n",
       "      <th>karo1940n01_008_plaintext_s04</th>\n",
       "      <td>title : RĪTA DZIESMA subheadline : author : PĒ...</td>\n",
       "      <td>1940</td>\n",
       "      <td>1</td>\n",
       "      <td>8</td>\n",
       "      <td>4</td>\n",
       "    </tr>\n",
       "    <tr>\n",
       "      <th>karo1940n01_009_plaintext_s05</th>\n",
       "      <td>title : LOGI subheadline : author : ANDREJS UP...</td>\n",
       "      <td>1940</td>\n",
       "      <td>1</td>\n",
       "      <td>9</td>\n",
       "      <td>5</td>\n",
       "    </tr>\n",
       "  </tbody>\n",
       "</table>\n",
       "</div>"
      ],
      "text/plain": [
       "                                                                            text  \\\n",
       "filename                                                                           \n",
       "karo1940n01_005_plaintext_s01  title : DARBU SĀKOT subheadline : author : Ž. ...   \n",
       "karo1940n01_007_plaintext_s02  title : JAUNA DZIESMA subheadline : author : V...   \n",
       "karo1940n01_008_plaintext_s03  title : PADOMJU ZEME subheadline : author : JĀ...   \n",
       "karo1940n01_008_plaintext_s04  title : RĪTA DZIESMA subheadline : author : PĒ...   \n",
       "karo1940n01_009_plaintext_s05  title : LOGI subheadline : author : ANDREJS UP...   \n",
       "\n",
       "                               year  issue  page  segment  \n",
       "filename                                                   \n",
       "karo1940n01_005_plaintext_s01  1940      1     5        1  \n",
       "karo1940n01_007_plaintext_s02  1940      1     7        2  \n",
       "karo1940n01_008_plaintext_s03  1940      1     8        3  \n",
       "karo1940n01_008_plaintext_s04  1940      1     8        4  \n",
       "karo1940n01_009_plaintext_s05  1940      1     9        5  "
      ]
     },
     "execution_count": 4,
     "metadata": {},
     "output_type": "execute_result"
    }
   ],
   "source": [
    "df = load_all_chunks_as_df()\n",
    "df.head()"
   ]
  },
  {
   "cell_type": "code",
   "execution_count": 8,
   "metadata": {},
   "outputs": [
    {
     "data": {
      "text/plain": [
       "(1945, 1994)"
      ]
     },
     "execution_count": 8,
     "metadata": {},
     "output_type": "execute_result"
    }
   ],
   "source": [
    "df.year.min(), df.year.max()"
   ]
  },
  {
   "cell_type": "code",
   "execution_count": 5,
   "metadata": {},
   "outputs": [
    {
     "data": {
      "text/plain": [
       "(115240, 5)"
      ]
     },
     "execution_count": 5,
     "metadata": {},
     "output_type": "execute_result"
    }
   ],
   "source": [
    "df.shape"
   ]
  }
 ],
 "metadata": {
  "kernelspec": {
   "display_name": "Python 3.10.6 ('venv': venv)",
   "language": "python",
   "name": "python3"
  },
  "language_info": {
   "codemirror_mode": {
    "name": "ipython",
    "version": 3
   },
   "file_extension": ".py",
   "mimetype": "text/x-python",
   "name": "python",
   "nbconvert_exporter": "python",
   "pygments_lexer": "ipython3",
   "version": "3.10.6 (tags/v3.10.6:9c7b4bd, Aug  1 2022, 21:53:49) [MSC v.1932 64 bit (AMD64)]"
  },
  "orig_nbformat": 4,
  "vscode": {
   "interpreter": {
    "hash": "5e9b7fe62fb6f5bec0f0b47197b24ef54ddfbacc3e942420795d19a98ee7e078"
   }
  }
 },
 "nbformat": 4,
 "nbformat_minor": 2
}
