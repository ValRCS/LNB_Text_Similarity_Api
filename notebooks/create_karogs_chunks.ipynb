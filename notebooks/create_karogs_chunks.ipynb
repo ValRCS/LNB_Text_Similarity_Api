{
 "cells": [
  {
   "cell_type": "code",
   "execution_count": null,
   "metadata": {},
   "outputs": [],
   "source": [
    "# load karogs data\n",
    "# tranform to dataframe with filename as index\n",
    "\n",
    "# divide into 10 chunks\n",
    "# save chunks to parquet files\n",
    "\n"
   ]
  },
  {
   "cell_type": "code",
   "execution_count": 1,
   "metadata": {},
   "outputs": [],
   "source": [
    "from pathlib import Path\n",
    "import pandas as pd\n"
   ]
  },
  {
   "cell_type": "code",
   "execution_count": 2,
   "metadata": {},
   "outputs": [
    {
     "name": "stdout",
     "output_type": "stream",
     "text": [
      "File C:\\Users\\Valdis\\Github\\lnb_dom_transformations\\temp\\karogs_20222201_form.parquet exists\n"
     ]
    }
   ],
   "source": [
    "src = Path(r\"C:\\Users\\Valdis\\Github\\lnb_dom_transformations\\temp\\karogs_20222201_form.parquet\")\n",
    "# check if file exists\n",
    "if src.exists():\n",
    "    print(f\"File {src} exists\")\n",
    "else:\n",
    "    print(f\"File {src} does not exist\")"
   ]
  },
  {
   "cell_type": "code",
   "execution_count": 3,
   "metadata": {},
   "outputs": [
    {
     "name": "stdout",
     "output_type": "stream",
     "text": [
      "                       file_name  \\\n",
      "0  karo1940n01_005_plaintext_s01   \n",
      "1  karo1940n01_007_plaintext_s02   \n",
      "2  karo1940n01_008_plaintext_s03   \n",
      "3  karo1940n01_008_plaintext_s04   \n",
      "4  karo1940n01_009_plaintext_s05   \n",
      "\n",
      "                                                form  \n",
      "0  title : DARBU SĀKOT subheadline : author : Ž. ...  \n",
      "1  title : JAUNA DZIESMA subheadline : author : V...  \n",
      "2  title : PADOMJU ZEME subheadline : author : JĀ...  \n",
      "3  title : RĪTA DZIESMA subheadline : author : PĒ...  \n",
      "4  title : LOGI subheadline : author : ANDREJS UP...  \n"
     ]
    }
   ],
   "source": [
    "# load data\n",
    "df = pd.read_parquet(src)\n",
    "df.head()"
   ]
  },
  {
   "cell_type": "code",
   "execution_count": 4,
   "metadata": {},
   "outputs": [
    {
     "data": {
      "text/html": [
       "<div>\n",
       "<style scoped>\n",
       "    .dataframe tbody tr th:only-of-type {\n",
       "        vertical-align: middle;\n",
       "    }\n",
       "\n",
       "    .dataframe tbody tr th {\n",
       "        vertical-align: top;\n",
       "    }\n",
       "\n",
       "    .dataframe thead th {\n",
       "        text-align: right;\n",
       "    }\n",
       "</style>\n",
       "<table border=\"1\" class=\"dataframe\">\n",
       "  <thead>\n",
       "    <tr style=\"text-align: right;\">\n",
       "      <th></th>\n",
       "      <th>file_name</th>\n",
       "      <th>form</th>\n",
       "    </tr>\n",
       "  </thead>\n",
       "  <tbody>\n",
       "    <tr>\n",
       "      <th>0</th>\n",
       "      <td>karo1940n01_005_plaintext_s01</td>\n",
       "      <td>title : DARBU SĀKOT subheadline : author : Ž. ...</td>\n",
       "    </tr>\n",
       "    <tr>\n",
       "      <th>1</th>\n",
       "      <td>karo1940n01_007_plaintext_s02</td>\n",
       "      <td>title : JAUNA DZIESMA subheadline : author : V...</td>\n",
       "    </tr>\n",
       "    <tr>\n",
       "      <th>2</th>\n",
       "      <td>karo1940n01_008_plaintext_s03</td>\n",
       "      <td>title : PADOMJU ZEME subheadline : author : JĀ...</td>\n",
       "    </tr>\n",
       "    <tr>\n",
       "      <th>3</th>\n",
       "      <td>karo1940n01_008_plaintext_s04</td>\n",
       "      <td>title : RĪTA DZIESMA subheadline : author : PĒ...</td>\n",
       "    </tr>\n",
       "    <tr>\n",
       "      <th>4</th>\n",
       "      <td>karo1940n01_009_plaintext_s05</td>\n",
       "      <td>title : LOGI subheadline : author : ANDREJS UP...</td>\n",
       "    </tr>\n",
       "  </tbody>\n",
       "</table>\n",
       "</div>"
      ],
      "text/plain": [
       "                       file_name  \\\n",
       "0  karo1940n01_005_plaintext_s01   \n",
       "1  karo1940n01_007_plaintext_s02   \n",
       "2  karo1940n01_008_plaintext_s03   \n",
       "3  karo1940n01_008_plaintext_s04   \n",
       "4  karo1940n01_009_plaintext_s05   \n",
       "\n",
       "                                                form  \n",
       "0  title : DARBU SĀKOT subheadline : author : Ž. ...  \n",
       "1  title : JAUNA DZIESMA subheadline : author : V...  \n",
       "2  title : PADOMJU ZEME subheadline : author : JĀ...  \n",
       "3  title : RĪTA DZIESMA subheadline : author : PĒ...  \n",
       "4  title : LOGI subheadline : author : ANDREJS UP...  "
      ]
     },
     "execution_count": 4,
     "metadata": {},
     "output_type": "execute_result"
    }
   ],
   "source": [
    "df.head()"
   ]
  },
  {
   "cell_type": "code",
   "execution_count": 5,
   "metadata": {},
   "outputs": [
    {
     "data": {
      "text/html": [
       "<div>\n",
       "<style scoped>\n",
       "    .dataframe tbody tr th:only-of-type {\n",
       "        vertical-align: middle;\n",
       "    }\n",
       "\n",
       "    .dataframe tbody tr th {\n",
       "        vertical-align: top;\n",
       "    }\n",
       "\n",
       "    .dataframe thead th {\n",
       "        text-align: right;\n",
       "    }\n",
       "</style>\n",
       "<table border=\"1\" class=\"dataframe\">\n",
       "  <thead>\n",
       "    <tr style=\"text-align: right;\">\n",
       "      <th></th>\n",
       "      <th>file_name</th>\n",
       "      <th>form</th>\n",
       "      <th>year</th>\n",
       "    </tr>\n",
       "  </thead>\n",
       "  <tbody>\n",
       "    <tr>\n",
       "      <th>0</th>\n",
       "      <td>karo1940n01_005_plaintext_s01</td>\n",
       "      <td>title : DARBU SĀKOT subheadline : author : Ž. ...</td>\n",
       "      <td>1940</td>\n",
       "    </tr>\n",
       "    <tr>\n",
       "      <th>1</th>\n",
       "      <td>karo1940n01_007_plaintext_s02</td>\n",
       "      <td>title : JAUNA DZIESMA subheadline : author : V...</td>\n",
       "      <td>1940</td>\n",
       "    </tr>\n",
       "    <tr>\n",
       "      <th>2</th>\n",
       "      <td>karo1940n01_008_plaintext_s03</td>\n",
       "      <td>title : PADOMJU ZEME subheadline : author : JĀ...</td>\n",
       "      <td>1940</td>\n",
       "    </tr>\n",
       "    <tr>\n",
       "      <th>3</th>\n",
       "      <td>karo1940n01_008_plaintext_s04</td>\n",
       "      <td>title : RĪTA DZIESMA subheadline : author : PĒ...</td>\n",
       "      <td>1940</td>\n",
       "    </tr>\n",
       "    <tr>\n",
       "      <th>4</th>\n",
       "      <td>karo1940n01_009_plaintext_s05</td>\n",
       "      <td>title : LOGI subheadline : author : ANDREJS UP...</td>\n",
       "      <td>1940</td>\n",
       "    </tr>\n",
       "  </tbody>\n",
       "</table>\n",
       "</div>"
      ],
      "text/plain": [
       "                       file_name  \\\n",
       "0  karo1940n01_005_plaintext_s01   \n",
       "1  karo1940n01_007_plaintext_s02   \n",
       "2  karo1940n01_008_plaintext_s03   \n",
       "3  karo1940n01_008_plaintext_s04   \n",
       "4  karo1940n01_009_plaintext_s05   \n",
       "\n",
       "                                                form  year  \n",
       "0  title : DARBU SĀKOT subheadline : author : Ž. ...  1940  \n",
       "1  title : JAUNA DZIESMA subheadline : author : V...  1940  \n",
       "2  title : PADOMJU ZEME subheadline : author : JĀ...  1940  \n",
       "3  title : RĪTA DZIESMA subheadline : author : PĒ...  1940  \n",
       "4  title : LOGI subheadline : author : ANDREJS UP...  1940  "
      ]
     },
     "execution_count": 5,
     "metadata": {},
     "output_type": "execute_result"
    }
   ],
   "source": [
    "# extract year from filename\n",
    "df['year'] = df.file_name.str[4:8].astype(int)\n",
    "df.head()"
   ]
  },
  {
   "cell_type": "code",
   "execution_count": 6,
   "metadata": {},
   "outputs": [
    {
     "data": {
      "text/plain": [
       "count    37254.000000\n",
       "mean      1973.155581\n",
       "std         12.383421\n",
       "min       1940.000000\n",
       "25%       1966.000000\n",
       "50%       1974.000000\n",
       "75%       1982.000000\n",
       "max       1995.000000\n",
       "Name: year, dtype: float64"
      ]
     },
     "execution_count": 6,
     "metadata": {},
     "output_type": "execute_result"
    }
   ],
   "source": [
    "df.year.describe()"
   ]
  },
  {
   "cell_type": "code",
   "execution_count": 7,
   "metadata": {},
   "outputs": [
    {
     "data": {
      "text/html": [
       "<div>\n",
       "<style scoped>\n",
       "    .dataframe tbody tr th:only-of-type {\n",
       "        vertical-align: middle;\n",
       "    }\n",
       "\n",
       "    .dataframe tbody tr th {\n",
       "        vertical-align: top;\n",
       "    }\n",
       "\n",
       "    .dataframe thead th {\n",
       "        text-align: right;\n",
       "    }\n",
       "</style>\n",
       "<table border=\"1\" class=\"dataframe\">\n",
       "  <thead>\n",
       "    <tr style=\"text-align: right;\">\n",
       "      <th></th>\n",
       "      <th>file_name</th>\n",
       "      <th>form</th>\n",
       "      <th>year</th>\n",
       "      <th>issue</th>\n",
       "    </tr>\n",
       "  </thead>\n",
       "  <tbody>\n",
       "    <tr>\n",
       "      <th>0</th>\n",
       "      <td>karo1940n01_005_plaintext_s01</td>\n",
       "      <td>title : DARBU SĀKOT subheadline : author : Ž. ...</td>\n",
       "      <td>1940</td>\n",
       "      <td>1</td>\n",
       "    </tr>\n",
       "    <tr>\n",
       "      <th>1</th>\n",
       "      <td>karo1940n01_007_plaintext_s02</td>\n",
       "      <td>title : JAUNA DZIESMA subheadline : author : V...</td>\n",
       "      <td>1940</td>\n",
       "      <td>1</td>\n",
       "    </tr>\n",
       "    <tr>\n",
       "      <th>2</th>\n",
       "      <td>karo1940n01_008_plaintext_s03</td>\n",
       "      <td>title : PADOMJU ZEME subheadline : author : JĀ...</td>\n",
       "      <td>1940</td>\n",
       "      <td>1</td>\n",
       "    </tr>\n",
       "    <tr>\n",
       "      <th>3</th>\n",
       "      <td>karo1940n01_008_plaintext_s04</td>\n",
       "      <td>title : RĪTA DZIESMA subheadline : author : PĒ...</td>\n",
       "      <td>1940</td>\n",
       "      <td>1</td>\n",
       "    </tr>\n",
       "    <tr>\n",
       "      <th>4</th>\n",
       "      <td>karo1940n01_009_plaintext_s05</td>\n",
       "      <td>title : LOGI subheadline : author : ANDREJS UP...</td>\n",
       "      <td>1940</td>\n",
       "      <td>1</td>\n",
       "    </tr>\n",
       "  </tbody>\n",
       "</table>\n",
       "</div>"
      ],
      "text/plain": [
       "                       file_name  \\\n",
       "0  karo1940n01_005_plaintext_s01   \n",
       "1  karo1940n01_007_plaintext_s02   \n",
       "2  karo1940n01_008_plaintext_s03   \n",
       "3  karo1940n01_008_plaintext_s04   \n",
       "4  karo1940n01_009_plaintext_s05   \n",
       "\n",
       "                                                form  year  issue  \n",
       "0  title : DARBU SĀKOT subheadline : author : Ž. ...  1940      1  \n",
       "1  title : JAUNA DZIESMA subheadline : author : V...  1940      1  \n",
       "2  title : PADOMJU ZEME subheadline : author : JĀ...  1940      1  \n",
       "3  title : RĪTA DZIESMA subheadline : author : PĒ...  1940      1  \n",
       "4  title : LOGI subheadline : author : ANDREJS UP...  1940      1  "
      ]
     },
     "execution_count": 7,
     "metadata": {},
     "output_type": "execute_result"
    }
   ],
   "source": [
    "# extract issue\n",
    "df['issue'] = df.file_name.str[9:11].astype(int)\n",
    "df.head()"
   ]
  },
  {
   "cell_type": "code",
   "execution_count": 9,
   "metadata": {},
   "outputs": [
    {
     "data": {
      "text/plain": [
       "count    37254.000000\n",
       "mean         6.430960\n",
       "std          3.440042\n",
       "min          1.000000\n",
       "25%          3.000000\n",
       "50%          6.000000\n",
       "75%          9.000000\n",
       "max         12.000000\n",
       "Name: issue, dtype: float64"
      ]
     },
     "execution_count": 9,
     "metadata": {},
     "output_type": "execute_result"
    }
   ],
   "source": [
    "# describe issues\n",
    "df.issue.describe()\n"
   ]
  },
  {
   "cell_type": "code",
   "execution_count": 11,
   "metadata": {},
   "outputs": [
    {
     "data": {
      "text/html": [
       "<div>\n",
       "<style scoped>\n",
       "    .dataframe tbody tr th:only-of-type {\n",
       "        vertical-align: middle;\n",
       "    }\n",
       "\n",
       "    .dataframe tbody tr th {\n",
       "        vertical-align: top;\n",
       "    }\n",
       "\n",
       "    .dataframe thead th {\n",
       "        text-align: right;\n",
       "    }\n",
       "</style>\n",
       "<table border=\"1\" class=\"dataframe\">\n",
       "  <thead>\n",
       "    <tr style=\"text-align: right;\">\n",
       "      <th></th>\n",
       "      <th>file_name</th>\n",
       "      <th>form</th>\n",
       "      <th>year</th>\n",
       "      <th>issue</th>\n",
       "      <th>page</th>\n",
       "    </tr>\n",
       "  </thead>\n",
       "  <tbody>\n",
       "    <tr>\n",
       "      <th>0</th>\n",
       "      <td>karo1940n01_005_plaintext_s01</td>\n",
       "      <td>title : DARBU SĀKOT subheadline : author : Ž. ...</td>\n",
       "      <td>1940</td>\n",
       "      <td>1</td>\n",
       "      <td>5</td>\n",
       "    </tr>\n",
       "    <tr>\n",
       "      <th>1</th>\n",
       "      <td>karo1940n01_007_plaintext_s02</td>\n",
       "      <td>title : JAUNA DZIESMA subheadline : author : V...</td>\n",
       "      <td>1940</td>\n",
       "      <td>1</td>\n",
       "      <td>7</td>\n",
       "    </tr>\n",
       "    <tr>\n",
       "      <th>2</th>\n",
       "      <td>karo1940n01_008_plaintext_s03</td>\n",
       "      <td>title : PADOMJU ZEME subheadline : author : JĀ...</td>\n",
       "      <td>1940</td>\n",
       "      <td>1</td>\n",
       "      <td>8</td>\n",
       "    </tr>\n",
       "    <tr>\n",
       "      <th>3</th>\n",
       "      <td>karo1940n01_008_plaintext_s04</td>\n",
       "      <td>title : RĪTA DZIESMA subheadline : author : PĒ...</td>\n",
       "      <td>1940</td>\n",
       "      <td>1</td>\n",
       "      <td>8</td>\n",
       "    </tr>\n",
       "    <tr>\n",
       "      <th>4</th>\n",
       "      <td>karo1940n01_009_plaintext_s05</td>\n",
       "      <td>title : LOGI subheadline : author : ANDREJS UP...</td>\n",
       "      <td>1940</td>\n",
       "      <td>1</td>\n",
       "      <td>9</td>\n",
       "    </tr>\n",
       "  </tbody>\n",
       "</table>\n",
       "</div>"
      ],
      "text/plain": [
       "                       file_name  \\\n",
       "0  karo1940n01_005_plaintext_s01   \n",
       "1  karo1940n01_007_plaintext_s02   \n",
       "2  karo1940n01_008_plaintext_s03   \n",
       "3  karo1940n01_008_plaintext_s04   \n",
       "4  karo1940n01_009_plaintext_s05   \n",
       "\n",
       "                                                form  year  issue  page  \n",
       "0  title : DARBU SĀKOT subheadline : author : Ž. ...  1940      1     5  \n",
       "1  title : JAUNA DZIESMA subheadline : author : V...  1940      1     7  \n",
       "2  title : PADOMJU ZEME subheadline : author : JĀ...  1940      1     8  \n",
       "3  title : RĪTA DZIESMA subheadline : author : PĒ...  1940      1     8  \n",
       "4  title : LOGI subheadline : author : ANDREJS UP...  1940      1     9  "
      ]
     },
     "execution_count": 11,
     "metadata": {},
     "output_type": "execute_result"
    }
   ],
   "source": [
    "# get page\n",
    "# use regex to extract page number\n",
    "df['page'] = df.file_name.str.extract(r'_(\\d{1,3})_', expand=False).astype(int)\n",
    "df.head()\n"
   ]
  },
  {
   "cell_type": "code",
   "execution_count": 12,
   "metadata": {},
   "outputs": [
    {
     "data": {
      "text/plain": [
       "count    37254.000000\n",
       "mean       122.915714\n",
       "std         68.119991\n",
       "min          1.000000\n",
       "25%         67.000000\n",
       "50%        130.000000\n",
       "75%        187.000000\n",
       "max        292.000000\n",
       "Name: page, dtype: float64"
      ]
     },
     "execution_count": 12,
     "metadata": {},
     "output_type": "execute_result"
    }
   ],
   "source": [
    "# describe page\n",
    "df.page.describe()"
   ]
  },
  {
   "cell_type": "code",
   "execution_count": 14,
   "metadata": {},
   "outputs": [
    {
     "data": {
      "text/html": [
       "<div>\n",
       "<style scoped>\n",
       "    .dataframe tbody tr th:only-of-type {\n",
       "        vertical-align: middle;\n",
       "    }\n",
       "\n",
       "    .dataframe tbody tr th {\n",
       "        vertical-align: top;\n",
       "    }\n",
       "\n",
       "    .dataframe thead th {\n",
       "        text-align: right;\n",
       "    }\n",
       "</style>\n",
       "<table border=\"1\" class=\"dataframe\">\n",
       "  <thead>\n",
       "    <tr style=\"text-align: right;\">\n",
       "      <th></th>\n",
       "      <th>file_name</th>\n",
       "      <th>form</th>\n",
       "      <th>year</th>\n",
       "      <th>issue</th>\n",
       "      <th>page</th>\n",
       "      <th>segment</th>\n",
       "    </tr>\n",
       "  </thead>\n",
       "  <tbody>\n",
       "    <tr>\n",
       "      <th>0</th>\n",
       "      <td>karo1940n01_005_plaintext_s01</td>\n",
       "      <td>title : DARBU SĀKOT subheadline : author : Ž. ...</td>\n",
       "      <td>1940</td>\n",
       "      <td>1</td>\n",
       "      <td>5</td>\n",
       "      <td>1</td>\n",
       "    </tr>\n",
       "    <tr>\n",
       "      <th>1</th>\n",
       "      <td>karo1940n01_007_plaintext_s02</td>\n",
       "      <td>title : JAUNA DZIESMA subheadline : author : V...</td>\n",
       "      <td>1940</td>\n",
       "      <td>1</td>\n",
       "      <td>7</td>\n",
       "      <td>2</td>\n",
       "    </tr>\n",
       "    <tr>\n",
       "      <th>2</th>\n",
       "      <td>karo1940n01_008_plaintext_s03</td>\n",
       "      <td>title : PADOMJU ZEME subheadline : author : JĀ...</td>\n",
       "      <td>1940</td>\n",
       "      <td>1</td>\n",
       "      <td>8</td>\n",
       "      <td>3</td>\n",
       "    </tr>\n",
       "    <tr>\n",
       "      <th>3</th>\n",
       "      <td>karo1940n01_008_plaintext_s04</td>\n",
       "      <td>title : RĪTA DZIESMA subheadline : author : PĒ...</td>\n",
       "      <td>1940</td>\n",
       "      <td>1</td>\n",
       "      <td>8</td>\n",
       "      <td>4</td>\n",
       "    </tr>\n",
       "    <tr>\n",
       "      <th>4</th>\n",
       "      <td>karo1940n01_009_plaintext_s05</td>\n",
       "      <td>title : LOGI subheadline : author : ANDREJS UP...</td>\n",
       "      <td>1940</td>\n",
       "      <td>1</td>\n",
       "      <td>9</td>\n",
       "      <td>5</td>\n",
       "    </tr>\n",
       "  </tbody>\n",
       "</table>\n",
       "</div>"
      ],
      "text/plain": [
       "                       file_name  \\\n",
       "0  karo1940n01_005_plaintext_s01   \n",
       "1  karo1940n01_007_plaintext_s02   \n",
       "2  karo1940n01_008_plaintext_s03   \n",
       "3  karo1940n01_008_plaintext_s04   \n",
       "4  karo1940n01_009_plaintext_s05   \n",
       "\n",
       "                                                form  year  issue  page  \\\n",
       "0  title : DARBU SĀKOT subheadline : author : Ž. ...  1940      1     5   \n",
       "1  title : JAUNA DZIESMA subheadline : author : V...  1940      1     7   \n",
       "2  title : PADOMJU ZEME subheadline : author : JĀ...  1940      1     8   \n",
       "3  title : RĪTA DZIESMA subheadline : author : PĒ...  1940      1     8   \n",
       "4  title : LOGI subheadline : author : ANDREJS UP...  1940      1     9   \n",
       "\n",
       "   segment  \n",
       "0        1  \n",
       "1        2  \n",
       "2        3  \n",
       "3        4  \n",
       "4        5  "
      ]
     },
     "execution_count": 14,
     "metadata": {},
     "output_type": "execute_result"
    }
   ],
   "source": [
    "# extract segment\n",
    "# use regex to extract segment number\n",
    "df['segment'] = df.file_name.str.extract(r'plaintext_s(\\d{1,3})', expand=False).astype(int)\n",
    "df.head()"
   ]
  },
  {
   "cell_type": "code",
   "execution_count": 15,
   "metadata": {},
   "outputs": [
    {
     "data": {
      "text/plain": [
       "count    37254.000000\n",
       "mean        39.548022\n",
       "std         28.017673\n",
       "min          1.000000\n",
       "25%         16.000000\n",
       "50%         34.000000\n",
       "75%         59.000000\n",
       "max        136.000000\n",
       "Name: segment, dtype: float64"
      ]
     },
     "execution_count": 15,
     "metadata": {},
     "output_type": "execute_result"
    }
   ],
   "source": [
    "# get segment stats\n",
    "df.segment.describe()"
   ]
  },
  {
   "cell_type": "code",
   "execution_count": 16,
   "metadata": {},
   "outputs": [
    {
     "data": {
      "text/html": [
       "<div>\n",
       "<style scoped>\n",
       "    .dataframe tbody tr th:only-of-type {\n",
       "        vertical-align: middle;\n",
       "    }\n",
       "\n",
       "    .dataframe tbody tr th {\n",
       "        vertical-align: top;\n",
       "    }\n",
       "\n",
       "    .dataframe thead th {\n",
       "        text-align: right;\n",
       "    }\n",
       "</style>\n",
       "<table border=\"1\" class=\"dataframe\">\n",
       "  <thead>\n",
       "    <tr style=\"text-align: right;\">\n",
       "      <th></th>\n",
       "      <th>form</th>\n",
       "      <th>year</th>\n",
       "      <th>issue</th>\n",
       "      <th>page</th>\n",
       "      <th>segment</th>\n",
       "    </tr>\n",
       "    <tr>\n",
       "      <th>file_name</th>\n",
       "      <th></th>\n",
       "      <th></th>\n",
       "      <th></th>\n",
       "      <th></th>\n",
       "      <th></th>\n",
       "    </tr>\n",
       "  </thead>\n",
       "  <tbody>\n",
       "    <tr>\n",
       "      <th>karo1940n01_005_plaintext_s01</th>\n",
       "      <td>title : DARBU SĀKOT subheadline : author : Ž. ...</td>\n",
       "      <td>1940</td>\n",
       "      <td>1</td>\n",
       "      <td>5</td>\n",
       "      <td>1</td>\n",
       "    </tr>\n",
       "    <tr>\n",
       "      <th>karo1940n01_007_plaintext_s02</th>\n",
       "      <td>title : JAUNA DZIESMA subheadline : author : V...</td>\n",
       "      <td>1940</td>\n",
       "      <td>1</td>\n",
       "      <td>7</td>\n",
       "      <td>2</td>\n",
       "    </tr>\n",
       "    <tr>\n",
       "      <th>karo1940n01_008_plaintext_s03</th>\n",
       "      <td>title : PADOMJU ZEME subheadline : author : JĀ...</td>\n",
       "      <td>1940</td>\n",
       "      <td>1</td>\n",
       "      <td>8</td>\n",
       "      <td>3</td>\n",
       "    </tr>\n",
       "    <tr>\n",
       "      <th>karo1940n01_008_plaintext_s04</th>\n",
       "      <td>title : RĪTA DZIESMA subheadline : author : PĒ...</td>\n",
       "      <td>1940</td>\n",
       "      <td>1</td>\n",
       "      <td>8</td>\n",
       "      <td>4</td>\n",
       "    </tr>\n",
       "    <tr>\n",
       "      <th>karo1940n01_009_plaintext_s05</th>\n",
       "      <td>title : LOGI subheadline : author : ANDREJS UP...</td>\n",
       "      <td>1940</td>\n",
       "      <td>1</td>\n",
       "      <td>9</td>\n",
       "      <td>5</td>\n",
       "    </tr>\n",
       "  </tbody>\n",
       "</table>\n",
       "</div>"
      ],
      "text/plain": [
       "                                                                            form  \\\n",
       "file_name                                                                          \n",
       "karo1940n01_005_plaintext_s01  title : DARBU SĀKOT subheadline : author : Ž. ...   \n",
       "karo1940n01_007_plaintext_s02  title : JAUNA DZIESMA subheadline : author : V...   \n",
       "karo1940n01_008_plaintext_s03  title : PADOMJU ZEME subheadline : author : JĀ...   \n",
       "karo1940n01_008_plaintext_s04  title : RĪTA DZIESMA subheadline : author : PĒ...   \n",
       "karo1940n01_009_plaintext_s05  title : LOGI subheadline : author : ANDREJS UP...   \n",
       "\n",
       "                               year  issue  page  segment  \n",
       "file_name                                                  \n",
       "karo1940n01_005_plaintext_s01  1940      1     5        1  \n",
       "karo1940n01_007_plaintext_s02  1940      1     7        2  \n",
       "karo1940n01_008_plaintext_s03  1940      1     8        3  \n",
       "karo1940n01_008_plaintext_s04  1940      1     8        4  \n",
       "karo1940n01_009_plaintext_s05  1940      1     9        5  "
      ]
     },
     "execution_count": 16,
     "metadata": {},
     "output_type": "execute_result"
    }
   ],
   "source": [
    "# use file_name as  index\n",
    "df.set_index('file_name', inplace=True)\n",
    "df.head()"
   ]
  },
  {
   "cell_type": "code",
   "execution_count": 17,
   "metadata": {},
   "outputs": [
    {
     "data": {
      "text/html": [
       "<div>\n",
       "<style scoped>\n",
       "    .dataframe tbody tr th:only-of-type {\n",
       "        vertical-align: middle;\n",
       "    }\n",
       "\n",
       "    .dataframe tbody tr th {\n",
       "        vertical-align: top;\n",
       "    }\n",
       "\n",
       "    .dataframe thead th {\n",
       "        text-align: right;\n",
       "    }\n",
       "</style>\n",
       "<table border=\"1\" class=\"dataframe\">\n",
       "  <thead>\n",
       "    <tr style=\"text-align: right;\">\n",
       "      <th></th>\n",
       "      <th>text</th>\n",
       "      <th>year</th>\n",
       "      <th>issue</th>\n",
       "      <th>page</th>\n",
       "      <th>segment</th>\n",
       "    </tr>\n",
       "    <tr>\n",
       "      <th>file_name</th>\n",
       "      <th></th>\n",
       "      <th></th>\n",
       "      <th></th>\n",
       "      <th></th>\n",
       "      <th></th>\n",
       "    </tr>\n",
       "  </thead>\n",
       "  <tbody>\n",
       "    <tr>\n",
       "      <th>karo1940n01_005_plaintext_s01</th>\n",
       "      <td>title : DARBU SĀKOT subheadline : author : Ž. ...</td>\n",
       "      <td>1940</td>\n",
       "      <td>1</td>\n",
       "      <td>5</td>\n",
       "      <td>1</td>\n",
       "    </tr>\n",
       "    <tr>\n",
       "      <th>karo1940n01_007_plaintext_s02</th>\n",
       "      <td>title : JAUNA DZIESMA subheadline : author : V...</td>\n",
       "      <td>1940</td>\n",
       "      <td>1</td>\n",
       "      <td>7</td>\n",
       "      <td>2</td>\n",
       "    </tr>\n",
       "    <tr>\n",
       "      <th>karo1940n01_008_plaintext_s03</th>\n",
       "      <td>title : PADOMJU ZEME subheadline : author : JĀ...</td>\n",
       "      <td>1940</td>\n",
       "      <td>1</td>\n",
       "      <td>8</td>\n",
       "      <td>3</td>\n",
       "    </tr>\n",
       "    <tr>\n",
       "      <th>karo1940n01_008_plaintext_s04</th>\n",
       "      <td>title : RĪTA DZIESMA subheadline : author : PĒ...</td>\n",
       "      <td>1940</td>\n",
       "      <td>1</td>\n",
       "      <td>8</td>\n",
       "      <td>4</td>\n",
       "    </tr>\n",
       "    <tr>\n",
       "      <th>karo1940n01_009_plaintext_s05</th>\n",
       "      <td>title : LOGI subheadline : author : ANDREJS UP...</td>\n",
       "      <td>1940</td>\n",
       "      <td>1</td>\n",
       "      <td>9</td>\n",
       "      <td>5</td>\n",
       "    </tr>\n",
       "  </tbody>\n",
       "</table>\n",
       "</div>"
      ],
      "text/plain": [
       "                                                                            text  \\\n",
       "file_name                                                                          \n",
       "karo1940n01_005_plaintext_s01  title : DARBU SĀKOT subheadline : author : Ž. ...   \n",
       "karo1940n01_007_plaintext_s02  title : JAUNA DZIESMA subheadline : author : V...   \n",
       "karo1940n01_008_plaintext_s03  title : PADOMJU ZEME subheadline : author : JĀ...   \n",
       "karo1940n01_008_plaintext_s04  title : RĪTA DZIESMA subheadline : author : PĒ...   \n",
       "karo1940n01_009_plaintext_s05  title : LOGI subheadline : author : ANDREJS UP...   \n",
       "\n",
       "                               year  issue  page  segment  \n",
       "file_name                                                  \n",
       "karo1940n01_005_plaintext_s01  1940      1     5        1  \n",
       "karo1940n01_007_plaintext_s02  1940      1     7        2  \n",
       "karo1940n01_008_plaintext_s03  1940      1     8        3  \n",
       "karo1940n01_008_plaintext_s04  1940      1     8        4  \n",
       "karo1940n01_009_plaintext_s05  1940      1     9        5  "
      ]
     },
     "execution_count": 17,
     "metadata": {},
     "output_type": "execute_result"
    }
   ],
   "source": [
    "# change form column to text\n",
    "df.rename(columns={'form': 'text'}, inplace=True)\n",
    "df.head()"
   ]
  },
  {
   "cell_type": "code",
   "execution_count": 18,
   "metadata": {},
   "outputs": [
    {
     "data": {
      "text/html": [
       "<div>\n",
       "<style scoped>\n",
       "    .dataframe tbody tr th:only-of-type {\n",
       "        vertical-align: middle;\n",
       "    }\n",
       "\n",
       "    .dataframe tbody tr th {\n",
       "        vertical-align: top;\n",
       "    }\n",
       "\n",
       "    .dataframe thead th {\n",
       "        text-align: right;\n",
       "    }\n",
       "</style>\n",
       "<table border=\"1\" class=\"dataframe\">\n",
       "  <thead>\n",
       "    <tr style=\"text-align: right;\">\n",
       "      <th></th>\n",
       "      <th>text</th>\n",
       "      <th>year</th>\n",
       "      <th>issue</th>\n",
       "      <th>page</th>\n",
       "      <th>segment</th>\n",
       "    </tr>\n",
       "    <tr>\n",
       "      <th>filename</th>\n",
       "      <th></th>\n",
       "      <th></th>\n",
       "      <th></th>\n",
       "      <th></th>\n",
       "      <th></th>\n",
       "    </tr>\n",
       "  </thead>\n",
       "  <tbody>\n",
       "    <tr>\n",
       "      <th>karo1940n01_005_plaintext_s01</th>\n",
       "      <td>title : DARBU SĀKOT subheadline : author : Ž. ...</td>\n",
       "      <td>1940</td>\n",
       "      <td>1</td>\n",
       "      <td>5</td>\n",
       "      <td>1</td>\n",
       "    </tr>\n",
       "    <tr>\n",
       "      <th>karo1940n01_007_plaintext_s02</th>\n",
       "      <td>title : JAUNA DZIESMA subheadline : author : V...</td>\n",
       "      <td>1940</td>\n",
       "      <td>1</td>\n",
       "      <td>7</td>\n",
       "      <td>2</td>\n",
       "    </tr>\n",
       "    <tr>\n",
       "      <th>karo1940n01_008_plaintext_s03</th>\n",
       "      <td>title : PADOMJU ZEME subheadline : author : JĀ...</td>\n",
       "      <td>1940</td>\n",
       "      <td>1</td>\n",
       "      <td>8</td>\n",
       "      <td>3</td>\n",
       "    </tr>\n",
       "    <tr>\n",
       "      <th>karo1940n01_008_plaintext_s04</th>\n",
       "      <td>title : RĪTA DZIESMA subheadline : author : PĒ...</td>\n",
       "      <td>1940</td>\n",
       "      <td>1</td>\n",
       "      <td>8</td>\n",
       "      <td>4</td>\n",
       "    </tr>\n",
       "    <tr>\n",
       "      <th>karo1940n01_009_plaintext_s05</th>\n",
       "      <td>title : LOGI subheadline : author : ANDREJS UP...</td>\n",
       "      <td>1940</td>\n",
       "      <td>1</td>\n",
       "      <td>9</td>\n",
       "      <td>5</td>\n",
       "    </tr>\n",
       "  </tbody>\n",
       "</table>\n",
       "</div>"
      ],
      "text/plain": [
       "                                                                            text  \\\n",
       "filename                                                                           \n",
       "karo1940n01_005_plaintext_s01  title : DARBU SĀKOT subheadline : author : Ž. ...   \n",
       "karo1940n01_007_plaintext_s02  title : JAUNA DZIESMA subheadline : author : V...   \n",
       "karo1940n01_008_plaintext_s03  title : PADOMJU ZEME subheadline : author : JĀ...   \n",
       "karo1940n01_008_plaintext_s04  title : RĪTA DZIESMA subheadline : author : PĒ...   \n",
       "karo1940n01_009_plaintext_s05  title : LOGI subheadline : author : ANDREJS UP...   \n",
       "\n",
       "                               year  issue  page  segment  \n",
       "filename                                                   \n",
       "karo1940n01_005_plaintext_s01  1940      1     5        1  \n",
       "karo1940n01_007_plaintext_s02  1940      1     7        2  \n",
       "karo1940n01_008_plaintext_s03  1940      1     8        3  \n",
       "karo1940n01_008_plaintext_s04  1940      1     8        4  \n",
       "karo1940n01_009_plaintext_s05  1940      1     9        5  "
      ]
     },
     "execution_count": 18,
     "metadata": {},
     "output_type": "execute_result"
    }
   ],
   "source": [
    "# rename index to filename\n",
    "df.index.name = 'filename'\n",
    "df.head()"
   ]
  },
  {
   "cell_type": "code",
   "execution_count": 19,
   "metadata": {},
   "outputs": [
    {
     "data": {
      "text/plain": [
       "(37254, 5)"
      ]
     },
     "execution_count": 19,
     "metadata": {},
     "output_type": "execute_result"
    }
   ],
   "source": [
    "df.shape"
   ]
  },
  {
   "cell_type": "code",
   "execution_count": 20,
   "metadata": {},
   "outputs": [],
   "source": [
    "import numpy as np"
   ]
  },
  {
   "cell_type": "code",
   "execution_count": 22,
   "metadata": {},
   "outputs": [
    {
     "name": "stdout",
     "output_type": "stream",
     "text": [
      "Saved chunk 0 to file\n",
      "Saved chunk 1 to file\n",
      "Saved chunk 2 to file\n",
      "Saved chunk 3 to file\n",
      "Saved chunk 4 to file\n",
      "Saved chunk 5 to file\n",
      "Saved chunk 6 to file\n",
      "Saved chunk 7 to file\n",
      "Saved chunk 8 to file\n",
      "Saved chunk 9 to file\n"
     ]
    }
   ],
   "source": [
    "# split df into 10 chunks\n",
    "# save chunks to parquet files in data folder\n",
    "chunksize = 4000\n",
    "for i, chunk in enumerate(np.array_split(df, 10)):\n",
    "    chunk.to_parquet(f\"../data/tuve_karogs_20221214_{i}.parquet\")\n",
    "    print(f\"Saved chunk {i} to file\")\n",
    "\n"
   ]
  }
 ],
 "metadata": {
  "kernelspec": {
   "display_name": "venv",
   "language": "python",
   "name": "python3"
  },
  "language_info": {
   "codemirror_mode": {
    "name": "ipython",
    "version": 3
   },
   "file_extension": ".py",
   "mimetype": "text/x-python",
   "name": "python",
   "nbconvert_exporter": "python",
   "pygments_lexer": "ipython3",
   "version": "3.10.6 (tags/v3.10.6:9c7b4bd, Aug  1 2022, 21:53:49) [MSC v.1932 64 bit (AMD64)]"
  },
  "orig_nbformat": 4,
  "vscode": {
   "interpreter": {
    "hash": "5e9b7fe62fb6f5bec0f0b47197b24ef54ddfbacc3e942420795d19a98ee7e078"
   }
  }
 },
 "nbformat": 4,
 "nbformat_minor": 2
}
